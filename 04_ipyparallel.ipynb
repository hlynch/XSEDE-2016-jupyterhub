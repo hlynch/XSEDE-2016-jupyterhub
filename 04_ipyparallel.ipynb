{
 "cells": [
  {
   "cell_type": "markdown",
   "metadata": {
    "slideshow": {
     "slide_type": "slide"
    }
   },
   "source": [
    "<img src='https://www.rc.colorado.edu/sites/all/themes/research/logo.png' style=\"height:75px\">"
   ]
  },
  {
   "cell_type": "markdown",
   "metadata": {
    "slideshow": {
     "slide_type": "-"
    }
   },
   "source": [
    "# Overview over using `ipyparallel`  in the Jupyterhub environment"
   ]
  },
  {
   "cell_type": "markdown",
   "metadata": {
    "slideshow": {
     "slide_type": "subslide"
    }
   },
   "source": [
    "## The `ipyparallel` module\n",
    "\n",
    "- Need to start the cluster first \n",
    "- Done through the web interface\n",
    "- You can use different profiles"
   ]
  },
  {
   "cell_type": "markdown",
   "metadata": {},
   "source": [
    "### Import `ipyparallel`"
   ]
  },
  {
   "cell_type": "code",
   "execution_count": 1,
   "metadata": {
    "collapsed": true,
    "slideshow": {
     "slide_type": "-"
    }
   },
   "outputs": [],
   "source": [
    "import ipyparallel as ipp\n",
    "import numpy as np"
   ]
  },
  {
   "cell_type": "markdown",
   "metadata": {
    "slideshow": {
     "slide_type": "slide"
    }
   },
   "source": [
    "## Creating `DirectView` instances"
   ]
  },
  {
   "cell_type": "markdown",
   "metadata": {},
   "source": [
    "### Using the janus-node profile"
   ]
  },
  {
   "cell_type": "code",
   "execution_count": 2,
   "metadata": {
    "collapsed": false
   },
   "outputs": [],
   "source": [
    "node_profile = 'janus-node'"
   ]
  },
  {
   "cell_type": "markdown",
   "metadata": {
    "slideshow": {
     "slide_type": "subslide"
    }
   },
   "source": [
    "#### Create a `Client` instance"
   ]
  },
  {
   "cell_type": "code",
   "execution_count": 40,
   "metadata": {
    "collapsed": false
   },
   "outputs": [
    {
     "ename": "OSError",
     "evalue": "You have attempted to connect to an IPython Cluster but no Controller could be found.\nPlease double-check your configuration and ensure that a cluster is running.",
     "output_type": "error",
     "traceback": [
      "\u001b[0;31m---------------------------------------------------------------------------\u001b[0m",
      "\u001b[0;31mOSError\u001b[0m                                   Traceback (most recent call last)",
      "\u001b[0;32m<ipython-input-40-6bd78b1ecbb7>\u001b[0m in \u001b[0;36m<module>\u001b[0;34m()\u001b[0m\n\u001b[0;32m----> 1\u001b[0;31m \u001b[0mrcn\u001b[0m \u001b[0;34m=\u001b[0m \u001b[0mipp\u001b[0m\u001b[0;34m.\u001b[0m\u001b[0mClient\u001b[0m\u001b[0;34m(\u001b[0m\u001b[0mprofile\u001b[0m\u001b[0;34m=\u001b[0m\u001b[0mnode_profile\u001b[0m\u001b[0;34m)\u001b[0m\u001b[0;34m\u001b[0m\u001b[0m\n\u001b[0m\u001b[1;32m      2\u001b[0m \u001b[0mprint\u001b[0m\u001b[0;34m(\u001b[0m\u001b[0mrcn\u001b[0m\u001b[0;34m.\u001b[0m\u001b[0mids\u001b[0m\u001b[0;34m)\u001b[0m\u001b[0;34m\u001b[0m\u001b[0m\n\u001b[1;32m      3\u001b[0m \u001b[0mndview\u001b[0m \u001b[0;34m=\u001b[0m \u001b[0mrcn\u001b[0m\u001b[0;34m[\u001b[0m\u001b[0;34m:\u001b[0m\u001b[0;34m]\u001b[0m\u001b[0;34m\u001b[0m\u001b[0m\n",
      "\u001b[0;32m/opt/local/Library/Frameworks/Python.framework/Versions/3.5/lib/python3.5/site-packages/ipyparallel/client/client.py\u001b[0m in \u001b[0;36m__init__\u001b[0;34m(self, url_file, profile, profile_dir, ipython_dir, context, debug, sshserver, sshkey, password, paramiko, timeout, cluster_id, **extra_args)\u001b[0m\n\u001b[1;32m    391\u001b[0m                     \u001b[0;32mraise\u001b[0m \u001b[0mIOError\u001b[0m\u001b[0;34m(\u001b[0m\u001b[0mmsg\u001b[0m\u001b[0;34m)\u001b[0m\u001b[0;34m\u001b[0m\u001b[0m\n\u001b[1;32m    392\u001b[0m         \u001b[0;32mif\u001b[0m \u001b[0murl_file\u001b[0m \u001b[0;32mis\u001b[0m \u001b[0;32mNone\u001b[0m\u001b[0;34m:\u001b[0m\u001b[0;34m\u001b[0m\u001b[0m\n\u001b[0;32m--> 393\u001b[0;31m             \u001b[0;32mraise\u001b[0m \u001b[0mIOError\u001b[0m\u001b[0;34m(\u001b[0m\u001b[0mno_file_msg\u001b[0m\u001b[0;34m)\u001b[0m\u001b[0;34m\u001b[0m\u001b[0m\n\u001b[0m\u001b[1;32m    394\u001b[0m \u001b[0;34m\u001b[0m\u001b[0m\n\u001b[1;32m    395\u001b[0m         \u001b[0;32mif\u001b[0m \u001b[0;32mnot\u001b[0m \u001b[0mos\u001b[0m\u001b[0;34m.\u001b[0m\u001b[0mpath\u001b[0m\u001b[0;34m.\u001b[0m\u001b[0mexists\u001b[0m\u001b[0;34m(\u001b[0m\u001b[0murl_file\u001b[0m\u001b[0;34m)\u001b[0m\u001b[0;34m:\u001b[0m\u001b[0;34m\u001b[0m\u001b[0m\n",
      "\u001b[0;31mOSError\u001b[0m: You have attempted to connect to an IPython Cluster but no Controller could be found.\nPlease double-check your configuration and ensure that a cluster is running."
     ]
    }
   ],
   "source": [
    "rcn = ipp.Client(profile=node_profile)\n",
    "print(rcn.ids)\n",
    "ndview = rcn[:]"
   ]
  },
  {
   "cell_type": "markdown",
   "metadata": {},
   "source": [
    "This uses the pre-defined profile 'janus-node'"
   ]
  },
  {
   "cell_type": "markdown",
   "metadata": {
    "slideshow": {
     "slide_type": "slide"
    }
   },
   "source": [
    "### Using the janus-cpu profile"
   ]
  },
  {
   "cell_type": "code",
   "execution_count": 2,
   "metadata": {
    "collapsed": true
   },
   "outputs": [],
   "source": [
    "#core_profile = 'janus-cpu'\n",
    "core_profile = 'default'"
   ]
  },
  {
   "cell_type": "code",
   "execution_count": 3,
   "metadata": {
    "collapsed": false,
    "run_control": {
     "marked": true
    }
   },
   "outputs": [
    {
     "name": "stdout",
     "output_type": "stream",
     "text": [
      "[0, 1, 2, 3]\n"
     ]
    }
   ],
   "source": [
    "rcc = ipp.Client(profile=core_profile)\n",
    "print(rcc.ids)\n",
    "cview = rcc[:]"
   ]
  },
  {
   "cell_type": "markdown",
   "metadata": {},
   "source": [
    "This client uses the pre-defined profile 'janus-cpu'"
   ]
  },
  {
   "cell_type": "markdown",
   "metadata": {
    "slideshow": {
     "slide_type": "slide"
    }
   },
   "source": [
    "## Using `map` in parallel"
   ]
  },
  {
   "cell_type": "code",
   "execution_count": 4,
   "metadata": {
    "collapsed": false
   },
   "outputs": [
    {
     "name": "stdout",
     "output_type": "stream",
     "text": [
      "[0, 1, 1024, 59049, 1048576, 9765625, 60466176, 282475249, 1073741824, 3486784401, 10000000000, 25937424601, 61917364224, 137858491849, 289254654976, 576650390625, 1099511627776, 2015993900449, 3570467226624, 6131066257801, 10240000000000, 16679880978201, 26559922791424, 41426511213649, 63403380965376, 95367431640625, 141167095653376, 205891132094649, 296196766695424, 420707233300201, 590490000000000, 819628286980801]\n",
      "[0, 1, 1024, 59049, 1048576, 9765625, 60466176, 282475249, 1073741824, 3486784401, 10000000000, 25937424601, 61917364224, 137858491849, 289254654976, 576650390625, 1099511627776, 2015993900449, 3570467226624, 6131066257801, 10240000000000, 16679880978201, 26559922791424, 41426511213649, 63403380965376, 95367431640625, 141167095653376, 205891132094649, 296196766695424, 420707233300201, 590490000000000, 819628286980801]\n"
     ]
    }
   ],
   "source": [
    "serial_result = map(lambda x:x**10, range(32))\n",
    "print(list(serial_result))\n",
    "\n",
    "parallel_result = cview.map_sync(lambda x: x**10, range(32))\n",
    "print (parallel_result)"
   ]
  },
  {
   "cell_type": "markdown",
   "metadata": {},
   "source": [
    "## `apply`"
   ]
  },
  {
   "cell_type": "code",
   "execution_count": 5,
   "metadata": {
    "collapsed": false
   },
   "outputs": [
    {
     "data": {
      "text/plain": [
       "[36, 40, 36, 40]"
      ]
     },
     "execution_count": 5,
     "metadata": {},
     "output_type": "execute_result"
    }
   ],
   "source": [
    "cview = rcc[:]\n",
    "cview_even = rcc[0::2]\n",
    "cview_odd = rcc[1::2]\n",
    "\n",
    "cview_even['a']=4\n",
    "cview_odd['a']=8\n",
    "cview['b']=5\n",
    "\n",
    "cview.apply_sync(lambda x: a+b+x, 27)\n"
   ]
  },
  {
   "cell_type": "markdown",
   "metadata": {
    "slideshow": {
     "slide_type": "slide"
    }
   },
   "source": [
    "## Where is my process running?\n"
   ]
  },
  {
   "cell_type": "code",
   "execution_count": 6,
   "metadata": {
    "collapsed": false,
    "scrolled": true
   },
   "outputs": [
    {
     "name": "stdout",
     "output_type": "stream",
     "text": [
      "Schleppy.local\n"
     ]
    }
   ],
   "source": [
    "import socket\n",
    "hostname = socket.gethostname()\n",
    "print(hostname)"
   ]
  },
  {
   "cell_type": "markdown",
   "metadata": {},
   "source": [
    "- Current deployment in the RC environment at CU-Boulder\n",
    "- The notebook is running on one of the nodes\n",
    "- Will change in the future.   \n",
    "- The engines are started through `SLURM` on different resources"
   ]
  },
  {
   "cell_type": "markdown",
   "metadata": {
    "slideshow": {
     "slide_type": "slide"
    }
   },
   "source": [
    "## Parallel magic commands\n",
    "\n",
    "### Simple access to the python engines of the cluster"
   ]
  },
  {
   "cell_type": "markdown",
   "metadata": {},
   "source": [
    "Using command `%px` or cellmagic `%%px`"
   ]
  },
  {
   "cell_type": "code",
   "execution_count": 17,
   "metadata": {
    "collapsed": false
   },
   "outputs": [
    {
     "name": "stdout",
     "output_type": "stream",
     "text": [
      "[stdout:0] Schleppy.local\n",
      "[stdout:1] Schleppy.local\n",
      "[stdout:2] Schleppy.local\n",
      "[stdout:3] Schleppy.local\n"
     ]
    }
   ],
   "source": [
    "%%px \n",
    "import socket\n",
    "hostname = socket.gethostname()\n",
    "print(hostname)"
   ]
  },
  {
   "cell_type": "code",
   "execution_count": 18,
   "metadata": {
    "collapsed": false,
    "slideshow": {
     "slide_type": "slide"
    }
   },
   "outputs": [
    {
     "name": "stdout",
     "output_type": "stream",
     "text": [
      "[stdout:0] Schleppy.local\n",
      "[stdout:2] Schleppy.local\n"
     ]
    }
   ],
   "source": [
    "%%px --target ::2\n",
    "hostname = socket.gethostname()\n",
    "print(hostname)"
   ]
  },
  {
   "cell_type": "markdown",
   "metadata": {
    "slideshow": {
     "slide_type": "slide"
    }
   },
   "source": [
    "### Non-blocking execution on the engines"
   ]
  },
  {
   "cell_type": "code",
   "execution_count": 19,
   "metadata": {
    "collapsed": false
   },
   "outputs": [
    {
     "data": {
      "text/plain": [
       "<AsyncResult: execute>"
      ]
     },
     "execution_count": 19,
     "metadata": {},
     "output_type": "execute_result"
    }
   ],
   "source": [
    "%%px --noblock\n",
    "import time\n",
    "time.sleep(1)\n",
    "hostname = socket.gethostname()\n",
    "print(hostname)"
   ]
  },
  {
   "cell_type": "code",
   "execution_count": 20,
   "metadata": {
    "collapsed": false
   },
   "outputs": [
    {
     "name": "stdout",
     "output_type": "stream",
     "text": [
      "[stdout:0] Schleppy.local\n",
      "[stdout:1] Schleppy.local\n",
      "[stdout:2] Schleppy.local\n",
      "[stdout:3] Schleppy.local\n"
     ]
    }
   ],
   "source": [
    "%pxresult"
   ]
  },
  {
   "cell_type": "code",
   "execution_count": 50,
   "metadata": {
    "collapsed": false,
    "slideshow": {
     "slide_type": "subslide"
    }
   },
   "outputs": [
    {
     "data": {
      "text/plain": [
       "'Schleppy.local'"
      ]
     },
     "execution_count": 50,
     "metadata": {},
     "output_type": "execute_result"
    }
   ],
   "source": [
    "hostname"
   ]
  },
  {
   "cell_type": "code",
   "execution_count": 21,
   "metadata": {
    "collapsed": false
   },
   "outputs": [
    {
     "name": "stdout",
     "output_type": "stream",
     "text": [
      "[stdout:0] Schleppy.local\n",
      "[stdout:1] Schleppy.local\n",
      "[stdout:2] Schleppy.local\n",
      "[stdout:3] Schleppy.local\n"
     ]
    }
   ],
   "source": [
    "%px print(hostname)"
   ]
  },
  {
   "cell_type": "markdown",
   "metadata": {
    "slideshow": {
     "slide_type": "slide"
    }
   },
   "source": [
    "### Auto-parallel"
   ]
  },
  {
   "cell_type": "code",
   "execution_count": 22,
   "metadata": {
    "collapsed": false
   },
   "outputs": [
    {
     "name": "stdout",
     "output_type": "stream",
     "text": [
      "%autopx enabled\n"
     ]
    }
   ],
   "source": [
    "%autopx"
   ]
  },
  {
   "cell_type": "code",
   "execution_count": 23,
   "metadata": {
    "collapsed": false
   },
   "outputs": [
    {
     "data": {
      "text/plain": [
       "\u001b[0;31mOut[0:5]: \u001b[0m'Schleppy.local'"
      ]
     },
     "metadata": {},
     "output_type": "display_data"
    },
    {
     "data": {
      "text/plain": [
       "\u001b[0;31mOut[1:4]: \u001b[0m'Schleppy.local'"
      ]
     },
     "metadata": {},
     "output_type": "display_data"
    },
    {
     "data": {
      "text/plain": [
       "\u001b[0;31mOut[2:5]: \u001b[0m'Schleppy.local'"
      ]
     },
     "metadata": {},
     "output_type": "display_data"
    },
    {
     "data": {
      "text/plain": [
       "\u001b[0;31mOut[3:4]: \u001b[0m'Schleppy.local'"
      ]
     },
     "metadata": {},
     "output_type": "display_data"
    }
   ],
   "source": [
    "socket.gethostname()"
   ]
  },
  {
   "cell_type": "code",
   "execution_count": 24,
   "metadata": {
    "collapsed": false
   },
   "outputs": [
    {
     "name": "stdout",
     "output_type": "stream",
     "text": [
      "%autopx disabled\n"
     ]
    }
   ],
   "source": [
    "%autopx"
   ]
  },
  {
   "cell_type": "markdown",
   "metadata": {
    "slideshow": {
     "slide_type": "slide"
    }
   },
   "source": [
    "### %pxconfig"
   ]
  },
  {
   "cell_type": "code",
   "execution_count": 26,
   "metadata": {
    "collapsed": false
   },
   "outputs": [
    {
     "data": {
      "text/plain": [
       "\u001b[0;31mOut[1:5]: \u001b[0m'Schleppy.local'"
      ]
     },
     "metadata": {},
     "output_type": "display_data"
    },
    {
     "data": {
      "text/plain": [
       "\u001b[0;31mOut[3:6]: \u001b[0m'Schleppy.local'"
      ]
     },
     "metadata": {},
     "output_type": "display_data"
    }
   ],
   "source": [
    "%pxconfig --targets 1::2\n",
    "%px socket.gethostname()"
   ]
  },
  {
   "cell_type": "markdown",
   "metadata": {
    "slideshow": {
     "slide_type": "slide"
    }
   },
   "source": [
    "##  Function Decorators\n",
    "### `Remote` functions\n",
    "\n",
    "- Like normal functions\n",
    "- Execute on one or more engines"
   ]
  },
  {
   "cell_type": "code",
   "execution_count": 27,
   "metadata": {
    "collapsed": false
   },
   "outputs": [
    {
     "data": {
      "text/plain": [
       "['Schleppy.local', 'Schleppy.local', 'Schleppy.local', 'Schleppy.local']"
      ]
     },
     "execution_count": 27,
     "metadata": {},
     "output_type": "execute_result"
    }
   ],
   "source": [
    "@cview.remote(block=True)\n",
    "def gethostname():\n",
    "    import socket\n",
    "    return socket.gethostname()\n",
    "\n",
    "gethostname()"
   ]
  },
  {
   "cell_type": "code",
   "execution_count": 39,
   "metadata": {
    "collapsed": false,
    "slideshow": {
     "slide_type": "slide"
    }
   },
   "outputs": [
    {
     "name": "stdout",
     "output_type": "stream",
     "text": [
      "[('Schleppy.local', 0), ('Schleppy.local', 1), ('Schleppy.local', 1024), ('Schleppy.local', 59049), ('Schleppy.local', 1048576), ('Schleppy.local', 9765625), ('Schleppy.local', 60466176), ('Schleppy.local', 282475249), ('Schleppy.local', 1073741824), ('Schleppy.local', 3486784401), ('Schleppy.local', 10000000000), ('Schleppy.local', 25937424601), ('Schleppy.local', 61917364224), ('Schleppy.local', 137858491849), ('Schleppy.local', 289254654976), ('Schleppy.local', 576650390625), ('Schleppy.local', 1099511627776), ('Schleppy.local', 2015993900449), ('Schleppy.local', 3570467226624), ('Schleppy.local', 6131066257801), ('Schleppy.local', 10240000000000), ('Schleppy.local', 16679880978201), ('Schleppy.local', 26559922791424), ('Schleppy.local', 41426511213649), ('Schleppy.local', 63403380965376), ('Schleppy.local', 95367431640625), ('Schleppy.local', 141167095653376), ('Schleppy.local', 205891132094649), ('Schleppy.local', 296196766695424), ('Schleppy.local', 420707233300201), ('Schleppy.local', 590490000000000), ('Schleppy.local', 819628286980801)]\n"
     ]
    }
   ],
   "source": [
    "def p10(x):\n",
    "    h = socket.gethostname()\n",
    "    return (h, x**10)\n",
    "\n",
    "serial_result=map(lambda x:x**10, range(32))\n",
    "\n",
    "parallel_result = cview.map_sync(p10, range(32))\n",
    "print(parallel_result)"
   ]
  },
  {
   "cell_type": "markdown",
   "metadata": {
    "collapsed": true,
    "slideshow": {
     "slide_type": "slide"
    }
   },
   "source": [
    "### `Parallel` functions\n",
    "\n",
    "#### Simpel element wise parallel computing"
   ]
  },
  {
   "cell_type": "code",
   "execution_count": 21,
   "metadata": {
    "collapsed": false
   },
   "outputs": [],
   "source": [
    "import numpy as np\n",
    "A = np.random.random((128,128))\n",
    "\n",
    "@cview.parallel(block=True)\n",
    "def parallel_multiply(A,B):\n",
    "    return A*B\n"
   ]
  },
  {
   "cell_type": "markdown",
   "metadata": {},
   "source": [
    "Serial for comparision"
   ]
  },
  {
   "cell_type": "code",
   "execution_count": 22,
   "metadata": {
    "collapsed": true
   },
   "outputs": [],
   "source": [
    "C_serial = A*A"
   ]
  },
  {
   "cell_type": "code",
   "execution_count": 23,
   "metadata": {
    "collapsed": false
   },
   "outputs": [],
   "source": [
    "C_parallel = parallel_multiply(A,A)"
   ]
  },
  {
   "cell_type": "code",
   "execution_count": 24,
   "metadata": {
    "collapsed": false
   },
   "outputs": [
    {
     "data": {
      "text/plain": [
       "True"
      ]
     },
     "execution_count": 24,
     "metadata": {},
     "output_type": "execute_result"
    }
   ],
   "source": [
    "(C_serial==C_parallel).all()"
   ]
  },
  {
   "cell_type": "markdown",
   "metadata": {
    "slideshow": {
     "slide_type": "slide"
    }
   },
   "source": [
    "## Distributing and collecting data \n"
   ]
  },
  {
   "cell_type": "markdown",
   "metadata": {},
   "source": [
    "### Scatter data to engines"
   ]
  },
  {
   "cell_type": "code",
   "execution_count": 31,
   "metadata": {
    "collapsed": false
   },
   "outputs": [
    {
     "name": "stdout",
     "output_type": "stream",
     "text": [
      "[stdout:0] \n",
      "[ 0  1  2  3  4  5  6  7  8  9 10 11 12 13 14 15 16 17 18 19 20 21 22 23 24\n",
      " 25 26 27 28 29 30 31 32 33 34 35 36 37 38 39 40 41 42 43 44 45 46 47 48 49]\n",
      "[stdout:1] \n",
      "[50 51 52 53 54 55 56 57 58 59 60 61 62 63 64 65 66 67 68 69 70 71 72 73 74\n",
      " 75 76 77 78 79 80 81 82 83 84 85 86 87 88 89 90 91 92 93 94 95 96 97 98 99]\n",
      "[stdout:2] \n",
      "[100 101 102 103 104 105 106 107 108 109 110 111 112 113 114 115 116 117\n",
      " 118 119 120 121 122 123 124 125 126 127 128 129 130 131 132 133 134 135\n",
      " 136 137 138 139 140 141 142 143 144 145 146 147 148 149]\n",
      "[stdout:3] \n",
      "[150 151 152 153 154 155 156 157 158 159 160 161 162 163 164 165 166 167\n",
      " 168 169 170 171 172 173 174 175 176 177 178 179 180 181 182 183 184 185\n",
      " 186 187 188 189 190 191 192 193 194 195 196 197 198 199]\n"
     ]
    }
   ],
   "source": [
    "rcc.activate(targets='all')\n",
    "x = np.arange(200)\n",
    "cview.scatter('x', x)\n",
    "%px print(x)"
   ]
  },
  {
   "cell_type": "markdown",
   "metadata": {
    "slideshow": {
     "slide_type": "subslide"
    }
   },
   "source": [
    "Numpy arrays will be read-only on the engines"
   ]
  },
  {
   "cell_type": "code",
   "execution_count": 27,
   "metadata": {
    "collapsed": false
   },
   "outputs": [
    {
     "ename": "CompositeError",
     "evalue": "one or more exceptions from call to method: execute\n[0:execute]: ValueError: assignment destination is read-only\n[1:execute]: ValueError: assignment destination is read-only\n[2:execute]: ValueError: assignment destination is read-only\n[3:execute]: ValueError: assignment destination is read-only",
     "output_type": "error",
     "traceback": [
      "[0:execute]: ",
      "\u001b[0;31m---------------------------------------------------------------------------\u001b[0m\u001b[0;31mValueError\u001b[0m                                Traceback (most recent call last)\u001b[0;32m<ipython-input-2-07f702bf51e0>\u001b[0m in \u001b[0;36m<module>\u001b[0;34m()\u001b[0m",
      "\u001b[0;32m----> 1\u001b[0;31m \u001b[0mx\u001b[0m\u001b[0;34m[\u001b[0m\u001b[0;34m:\u001b[0m\u001b[0;34m:\u001b[0m\u001b[0;36m2\u001b[0m\u001b[0;34m]\u001b[0m\u001b[0;34m=\u001b[0m\u001b[0;34m-\u001b[0m\u001b[0;36m1\u001b[0m\u001b[0;34m\u001b[0m\u001b[0m",
      "\u001b[0m\u001b[0;31mValueError\u001b[0m: assignment destination is read-only",
      "",
      "[1:execute]: ",
      "\u001b[0;31m---------------------------------------------------------------------------\u001b[0m\u001b[0;31mValueError\u001b[0m                                Traceback (most recent call last)\u001b[0;32m<ipython-input-2-07f702bf51e0>\u001b[0m in \u001b[0;36m<module>\u001b[0;34m()\u001b[0m",
      "\u001b[0;32m----> 1\u001b[0;31m \u001b[0mx\u001b[0m\u001b[0;34m[\u001b[0m\u001b[0;34m:\u001b[0m\u001b[0;34m:\u001b[0m\u001b[0;36m2\u001b[0m\u001b[0;34m]\u001b[0m\u001b[0;34m=\u001b[0m\u001b[0;34m-\u001b[0m\u001b[0;36m1\u001b[0m\u001b[0;34m\u001b[0m\u001b[0m",
      "\u001b[0m\u001b[0;31mValueError\u001b[0m: assignment destination is read-only",
      "",
      "[2:execute]: ",
      "\u001b[0;31m---------------------------------------------------------------------------\u001b[0m\u001b[0;31mValueError\u001b[0m                                Traceback (most recent call last)\u001b[0;32m<ipython-input-2-07f702bf51e0>\u001b[0m in \u001b[0;36m<module>\u001b[0;34m()\u001b[0m",
      "\u001b[0;32m----> 1\u001b[0;31m \u001b[0mx\u001b[0m\u001b[0;34m[\u001b[0m\u001b[0;34m:\u001b[0m\u001b[0;34m:\u001b[0m\u001b[0;36m2\u001b[0m\u001b[0;34m]\u001b[0m\u001b[0;34m=\u001b[0m\u001b[0;34m-\u001b[0m\u001b[0;36m1\u001b[0m\u001b[0;34m\u001b[0m\u001b[0m",
      "\u001b[0m\u001b[0;31mValueError\u001b[0m: assignment destination is read-only",
      "",
      "[3:execute]: ",
      "\u001b[0;31m---------------------------------------------------------------------------\u001b[0m\u001b[0;31mValueError\u001b[0m                                Traceback (most recent call last)\u001b[0;32m<ipython-input-2-07f702bf51e0>\u001b[0m in \u001b[0;36m<module>\u001b[0;34m()\u001b[0m",
      "\u001b[0;32m----> 1\u001b[0;31m \u001b[0mx\u001b[0m\u001b[0;34m[\u001b[0m\u001b[0;34m:\u001b[0m\u001b[0;34m:\u001b[0m\u001b[0;36m2\u001b[0m\u001b[0;34m]\u001b[0m\u001b[0;34m=\u001b[0m\u001b[0;34m-\u001b[0m\u001b[0;36m1\u001b[0m\u001b[0;34m\u001b[0m\u001b[0m",
      "\u001b[0m\u001b[0;31mValueError\u001b[0m: assignment destination is read-only",
      ""
     ]
    }
   ],
   "source": [
    "%px x[::2]=-1"
   ]
  },
  {
   "cell_type": "markdown",
   "metadata": {
    "slideshow": {
     "slide_type": "subslide"
    }
   },
   "source": [
    "Solution: Copy the arrays "
   ]
  },
  {
   "cell_type": "code",
   "execution_count": 32,
   "metadata": {
    "collapsed": false
   },
   "outputs": [
    {
     "name": "stdout",
     "output_type": "stream",
     "text": [
      "[stdout:0] \n",
      "  C_CONTIGUOUS : True\n",
      "  F_CONTIGUOUS : True\n",
      "  OWNDATA : False\n",
      "  WRITEABLE : False\n",
      "  ALIGNED : True\n",
      "  UPDATEIFCOPY : False\n",
      "[-1  1 -1  3 -1  5 -1  7 -1  9 -1 11 -1 13 -1 15 -1 17 -1 19 -1 21 -1 23 -1\n",
      " 25 -1 27 -1 29 -1 31 -1 33 -1 35 -1 37 -1 39 -1 41 -1 43 -1 45 -1 47 -1 49]\n",
      "[stdout:1] \n",
      "  C_CONTIGUOUS : True\n",
      "  F_CONTIGUOUS : True\n",
      "  OWNDATA : False\n",
      "  WRITEABLE : False\n",
      "  ALIGNED : True\n",
      "  UPDATEIFCOPY : False\n",
      "[-1 51 -1 53 -1 55 -1 57 -1 59 -1 61 -1 63 -1 65 -1 67 -1 69 -1 71 -1 73 -1\n",
      " 75 -1 77 -1 79 -1 81 -1 83 -1 85 -1 87 -1 89 -1 91 -1 93 -1 95 -1 97 -1 99]\n",
      "[stdout:2] \n",
      "  C_CONTIGUOUS : True\n",
      "  F_CONTIGUOUS : True\n",
      "  OWNDATA : False\n",
      "  WRITEABLE : False\n",
      "  ALIGNED : True\n",
      "  UPDATEIFCOPY : False\n",
      "[ -1 101  -1 103  -1 105  -1 107  -1 109  -1 111  -1 113  -1 115  -1 117\n",
      "  -1 119  -1 121  -1 123  -1 125  -1 127  -1 129  -1 131  -1 133  -1 135\n",
      "  -1 137  -1 139  -1 141  -1 143  -1 145  -1 147  -1 149]\n",
      "[stdout:3] \n",
      "  C_CONTIGUOUS : True\n",
      "  F_CONTIGUOUS : True\n",
      "  OWNDATA : False\n",
      "  WRITEABLE : False\n",
      "  ALIGNED : True\n",
      "  UPDATEIFCOPY : False\n",
      "[ -1 151  -1 153  -1 155  -1 157  -1 159  -1 161  -1 163  -1 165  -1 167\n",
      "  -1 169  -1 171  -1 173  -1 175  -1 177  -1 179  -1 181  -1 183  -1 185\n",
      "  -1 187  -1 189  -1 191  -1 193  -1 195  -1 197  -1 199]\n"
     ]
    }
   ],
   "source": [
    "%%px\n",
    "print(x.flags)\n",
    "if not x.flags.writeable:\n",
    "    x = x.copy()\n",
    "x[::2]=-1\n",
    "print(x)"
   ]
  },
  {
   "cell_type": "markdown",
   "metadata": {
    "slideshow": {
     "slide_type": "slide"
    }
   },
   "source": [
    "### Gather data from engines\n",
    "#### Blocking"
   ]
  },
  {
   "cell_type": "code",
   "execution_count": 45,
   "metadata": {
    "collapsed": false
   },
   "outputs": [
    {
     "data": {
      "text/plain": [
       "['Schleppy.local', 'Schleppy.local', 'Schleppy.local', 'Schleppy.local']"
      ]
     },
     "execution_count": 45,
     "metadata": {},
     "output_type": "execute_result"
    }
   ],
   "source": [
    "cview.block=True\n",
    "cview.gather('hostname')"
   ]
  },
  {
   "cell_type": "code",
   "execution_count": 46,
   "metadata": {
    "collapsed": false
   },
   "outputs": [
    {
     "name": "stdout",
     "output_type": "stream",
     "text": [
      "[ -1   1  -1   3  -1   5  -1   7  -1   9  -1  11  -1  13  -1  15  -1  17\n",
      "  -1  19  -1  21  -1  23  -1  25  -1  27  -1  29  -1  31  -1  33  -1  35\n",
      "  -1  37  -1  39  -1  41  -1  43  -1  45  -1  47  -1  49  -1  51  -1  53\n",
      "  -1  55  -1  57  -1  59  -1  61  -1  63  -1  65  -1  67  -1  69  -1  71\n",
      "  -1  73  -1  75  -1  77  -1  79  -1  81  -1  83  -1  85  -1  87  -1  89\n",
      "  -1  91  -1  93  -1  95  -1  97  -1  99  -1 101  -1 103  -1 105  -1 107\n",
      "  -1 109  -1 111  -1 113  -1 115  -1 117  -1 119  -1 121  -1 123  -1 125\n",
      "  -1 127  -1 129  -1 131  -1 133  -1 135  -1 137  -1 139  -1 141  -1 143\n",
      "  -1 145  -1 147  -1 149  -1 151  -1 153  -1 155  -1 157  -1 159  -1 161\n",
      "  -1 163  -1 165  -1 167  -1 169  -1 171  -1 173  -1 175  -1 177  -1 179\n",
      "  -1 181  -1 183  -1 185  -1 187  -1 189  -1 191  -1 193  -1 195  -1 197\n",
      "  -1 199]\n"
     ]
    }
   ],
   "source": [
    "r = cview.gather('x')\n",
    "print(r)"
   ]
  },
  {
   "cell_type": "markdown",
   "metadata": {
    "slideshow": {
     "slide_type": "subslide"
    }
   },
   "source": [
    "#### Non-blocking gather"
   ]
  },
  {
   "cell_type": "code",
   "execution_count": 47,
   "metadata": {
    "collapsed": false
   },
   "outputs": [
    {
     "data": {
      "text/plain": [
       "['Schleppy.local', 'Schleppy.local', 'Schleppy.local', 'Schleppy.local']"
      ]
     },
     "execution_count": 47,
     "metadata": {},
     "output_type": "execute_result"
    }
   ],
   "source": [
    "cview.block=False\n",
    "r = cview.gather('hostname')\n",
    "cview.wait(r)\n",
    "r.get()"
   ]
  },
  {
   "cell_type": "markdown",
   "metadata": {
    "slideshow": {
     "slide_type": "slide"
    }
   },
   "source": [
    "## Example: Monte-Carlo $\\pi$\n",
    "\n",
    "First a standard implementation. The following code runs on the notebook server"
   ]
  },
  {
   "cell_type": "code",
   "execution_count": 35,
   "metadata": {
    "collapsed": false
   },
   "outputs": [],
   "source": [
    "import random\n",
    "import numpy as np\n",
    " \n",
    "def mc_pi(n):\n",
    "    o = np.ones(n, np.float64)\n",
    "    x = np.random.rand(n)\n",
    "    y = np.random.rand(n)\n",
    "    c = np.select( [x*x + y*y <= 1], [o])\n",
    "    return 4.0*np.sum(c)/np.float64(n)\n"
   ]
  },
  {
   "cell_type": "code",
   "execution_count": 50,
   "metadata": {
    "collapsed": false
   },
   "outputs": [
    {
     "data": {
      "text/plain": [
       "3.1420360000000001"
      ]
     },
     "execution_count": 50,
     "metadata": {},
     "output_type": "execute_result"
    }
   ],
   "source": [
    "mc_pi(10**7)"
   ]
  },
  {
   "cell_type": "markdown",
   "metadata": {
    "slideshow": {
     "slide_type": "subslide"
    }
   },
   "source": [
    "### Map and reduce serially\n",
    "\n",
    "This runs on the notebook server and not on any of the engines of the cluster"
   ]
  },
  {
   "cell_type": "code",
   "execution_count": 51,
   "metadata": {
    "collapsed": false
   },
   "outputs": [
    {
     "name": "stdout",
     "output_type": "stream",
     "text": [
      "[3.1418271999999998, 3.1424259999999999]\n"
     ]
    },
    {
     "data": {
      "text/plain": [
       "3.1421266000000001"
      ]
     },
     "execution_count": 51,
     "metadata": {},
     "output_type": "execute_result"
    }
   ],
   "source": [
    "from functools import reduce\n",
    "from operator import add\n",
    "\n",
    "serial_result = list(map(mc_pi, [10**7, 10**7]))\n",
    "print(serial_result)\n",
    "reduce(add, serial_result) / (len(serial_result))"
   ]
  },
  {
   "cell_type": "markdown",
   "metadata": {
    "slideshow": {
     "slide_type": "subslide"
    }
   },
   "source": [
    "### Running on the engines\n",
    "\n",
    "**Using a DirectView and then use a synchronous map**\n",
    "\n",
    "Goal:\n",
    "- Running 24 instances of the `mc_pi` function\n",
    "- Get the results back in a list and then do a reduce on the list"
   ]
  },
  {
   "cell_type": "code",
   "execution_count": 33,
   "metadata": {
    "collapsed": false
   },
   "outputs": [],
   "source": [
    "%%px\n",
    "\n",
    "import numpy as np\n",
    "\n",
    "def mc_pi(n):\n",
    "    o = np.ones(n, np.float64)\n",
    "    x = np.random.rand(n)\n",
    "    y = np.random.rand(n)\n",
    "    c = np.select( [x*x + y*y <= 1], [o])\n",
    "    return 4.0*np.sum(c)/np.float64(n)"
   ]
  },
  {
   "cell_type": "markdown",
   "metadata": {},
   "source": [
    "Let's run the mc_pi function on each of the engines"
   ]
  },
  {
   "cell_type": "code",
   "execution_count": 40,
   "metadata": {
    "collapsed": false
   },
   "outputs": [
    {
     "name": "stdout",
     "output_type": "stream",
     "text": [
      "[3.1395960000000001, 3.1412119999999999, 3.1398519999999999, 3.139456, 3.1403120000000002, 3.1436039999999998, 3.1415320000000002, 3.1413440000000001, 3.1407639999999999, 3.1388720000000001, 3.1420759999999999, 3.14106, 3.1372559999999998, 3.1410119999999999, 3.1387839999999998, 3.13828, 3.143176, 3.1438799999999998, 3.1431640000000001, 3.14018, 3.1391960000000001, 3.1390120000000001, 3.143872, 3.1387119999999999, 3.140908, 3.143796, 3.1396799999999998, 3.142048, 3.1430319999999998, 3.1396920000000001, 3.1392720000000001, 3.141092, 3.1444040000000002, 3.1430120000000001, 3.1414, 3.1414800000000001, 3.142468, 3.140164, 3.1425960000000002, 3.1410239999999998]\n"
     ]
    }
   ],
   "source": [
    "nengines = len(rcc.ids)\n",
    "results = cview.map_sync(mc_pi, [10**6]*nengines*10)\n",
    "print(results)"
   ]
  },
  {
   "cell_type": "code",
   "execution_count": 41,
   "metadata": {
    "collapsed": false
   },
   "outputs": [
    {
     "name": "stdout",
     "output_type": "stream",
     "text": [
      "3.1410568\n"
     ]
    }
   ],
   "source": [
    "res_pi = sum(results)/len(results)\n",
    "print(res_pi)"
   ]
  },
  {
   "cell_type": "markdown",
   "metadata": {
    "collapsed": true
   },
   "source": [
    "## Load balanced view\n",
    "\n",
    "- Use when each function may take different times"
   ]
  },
  {
   "cell_type": "code",
   "execution_count": 38,
   "metadata": {
    "collapsed": false
   },
   "outputs": [
    {
     "name": "stdout",
     "output_type": "stream",
     "text": [
      "[3.1418159999999999, 3.1433040000000001, 3.1404920000000001, 3.1430159999999998, 3.1390920000000002, 3.1424840000000001, 3.1412879999999999, 3.1418720000000002, 3.1406679999999998, 3.1439919999999999, 3.1431119999999999, 3.1417600000000001, 3.1416919999999999, 3.1439279999999998, 3.1442600000000001, 3.1426720000000001, 3.1396799999999998, 3.1425239999999999, 3.141896, 3.1437560000000002, 3.1406040000000002, 3.1413760000000002, 3.1427200000000002, 3.1421800000000002, 3.1403279999999998, 3.1430959999999999, 3.14188, 3.1409280000000002, 3.1442960000000002, 3.1403759999999998, 3.141168, 3.1430440000000002, 3.139904, 3.1410960000000001, 3.1410999999999998, 3.1421760000000001, 3.140736, 3.1418520000000001, 3.1422759999999998, 3.1406679999999998, 3.1405799999999999, 3.1406200000000002, 3.1410040000000001, 3.1413000000000002, 3.1410520000000002, 3.1435439999999999, 3.1421039999999998, 3.1414119999999999, 3.1435719999999998, 3.1441159999999999]\n"
     ]
    }
   ],
   "source": [
    "lbview = rcc.load_balanced_view()\n",
    "results = lbview.map_sync(mc_pi, [10**6]*50)\n",
    "print(results)"
   ]
  },
  {
   "cell_type": "markdown",
   "metadata": {},
   "source": [
    "## DAGs for task dependencies"
   ]
  },
  {
   "cell_type": "code",
   "execution_count": 71,
   "metadata": {
    "collapsed": false
   },
   "outputs": [
    {
     "data": {
      "text/plain": [
       "{0: <matplotlib.text.Text at 0x115137860>,\n",
       " 1: <matplotlib.text.Text at 0x11451a908>,\n",
       " 2: <matplotlib.text.Text at 0x11451a748>,\n",
       " 3: <matplotlib.text.Text at 0x11451a9b0>,\n",
       " 4: <matplotlib.text.Text at 0x114536908>}"
      ]
     },
     "execution_count": 71,
     "metadata": {},
     "output_type": "execute_result"
    },
    {
     "data": {
      "image/png": "[encoded data removed]",
      "text/plain": [
       "<matplotlib.figure.Figure at 0x1151375c0>"
      ]
     },
     "metadata": {},
     "output_type": "display_data"
    }
   ],
   "source": [
    "%matplotlib inline\n",
    "import matplotlib.pyplot as plt\n",
    "\n",
    "import networkx as nx\n",
    "\n",
    "G = nx.DiGraph()\n",
    "\n",
    "# add 5 nodes, labeled 0-4:\n",
    "map(G.add_node, range(5))\n",
    "# 1,2 depend on 0:\n",
    "G.add_edge(0,1)\n",
    "G.add_edge(0,2)\n",
    "# 3 depends on 1,2\n",
    "G.add_edge(1,3)\n",
    "G.add_edge(2,3)\n",
    "# 4 depends on 1\n",
    "G.add_edge(1,4)\n",
    "\n",
    "# now draw the graph:\n",
    "pos = { 0 : (0,0), 1 : (1,1), 2 : (-1,1),\n",
    "        3 : (0,2), 4 : (2,2)}\n",
    "labels = {}\n",
    "labels[0] = '0'\n",
    "labels[1] = '1'\n",
    "labels[2] = '2'\n",
    "labels[3] = '3'\n",
    "labels[4] = '4'\n",
    "\n",
    "nx.draw(G, pos, edge_color='r')\n",
    "nx.draw_networkx_labels(G,pos,labels,font_size=12)\n"
   ]
  },
  {
   "cell_type": "code",
   "execution_count": 72,
   "metadata": {
    "collapsed": true
   },
   "outputs": [],
   "source": [
    "jobs = {}\n",
    "for node in G:\n",
    "    jobs[node] = randomwait"
   ]
  },
  {
   "cell_type": "code",
   "execution_count": 73,
   "metadata": {
    "collapsed": true
   },
   "outputs": [],
   "source": [
    "results = {}\n",
    "lbview = rcc.load_balanced_view()\n",
    "for node in nx.topological_sort(G):\n",
    "    deps = [ results[n] for n in G.predecessors(node) ]\n",
    "    with lbview.temp_flags(after=deps, block=False):\n",
    "        results[node] = lbview.apply(jobs[node])"
   ]
  },
  {
   "cell_type": "code",
   "execution_count": 74,
   "metadata": {
    "collapsed": false
   },
   "outputs": [
    {
     "data": {
      "text/plain": [
       "True"
      ]
     },
     "execution_count": 74,
     "metadata": {},
     "output_type": "execute_result"
    }
   ],
   "source": [
    "lbview.wait(results.values())"
   ]
  },
  {
   "cell_type": "code",
   "execution_count": 78,
   "metadata": {
    "collapsed": false
   },
   "outputs": [
    {
     "name": "stdout",
     "output_type": "stream",
     "text": [
      "{'received': datetime.datetime(2016, 7, 18, 10, 53, 3, 894013), 'engine_uuid': 'bb14d49c-7837-46bb-ad63-e34ff2ede858', 'stderr': '', 'execute_input': None, 'data': {}, 'started': datetime.datetime(2016, 7, 18, 10, 52, 57, 888902), 'status': 'ok', 'engine_id': 0, 'submitted': datetime.datetime(2016, 7, 18, 10, 52, 57, 883168), 'after': [], 'stdout': '', 'msg_id': '7846e066-f9cf-4f06-862e-073eb762c979', 'follow': [], 'outputs': [], 'execute_result': None, 'error': None, 'completed': datetime.datetime(2016, 7, 18, 10, 53, 3, 890375)}\n",
      "{'received': datetime.datetime(2016, 7, 18, 10, 53, 21, 900771), 'engine_uuid': 'ca3dae7d-84c4-4ecf-95f2-e03daa18147b', 'stderr': '', 'execute_input': None, 'data': {}, 'started': datetime.datetime(2016, 7, 18, 10, 53, 3, 895139), 'status': 'ok', 'engine_id': 1, 'submitted': datetime.datetime(2016, 7, 18, 10, 52, 57, 883789), 'after': [], 'stdout': '', 'msg_id': '1894c335-c559-4b6a-8564-b61ab236a5a5', 'follow': [], 'outputs': [], 'execute_result': None, 'error': None, 'completed': datetime.datetime(2016, 7, 18, 10, 53, 21, 896136)}\n",
      "{'received': datetime.datetime(2016, 7, 18, 10, 53, 14, 900840), 'engine_uuid': 'dfb116f7-36d0-4d14-8d7e-7ea88f9eacf5', 'stderr': '', 'execute_input': None, 'data': {}, 'started': datetime.datetime(2016, 7, 18, 10, 53, 3, 895672), 'status': 'ok', 'engine_id': 3, 'submitted': datetime.datetime(2016, 7, 18, 10, 52, 57, 884839), 'after': [], 'stdout': '', 'msg_id': '6250ce60-fb99-4519-a072-d91174bdd590', 'follow': [], 'outputs': [], 'execute_result': None, 'error': None, 'completed': datetime.datetime(2016, 7, 18, 10, 53, 14, 897649)}\n",
      "{'received': datetime.datetime(2016, 7, 18, 10, 53, 40, 910486), 'engine_uuid': 'bb14d49c-7837-46bb-ad63-e34ff2ede858', 'stderr': '', 'execute_input': None, 'data': {}, 'started': datetime.datetime(2016, 7, 18, 10, 53, 21, 902739), 'status': 'ok', 'engine_id': 0, 'submitted': datetime.datetime(2016, 7, 18, 10, 52, 57, 887025), 'after': [], 'stdout': '', 'msg_id': '44fb883d-a1de-4253-ab13-fe052de4edfa', 'follow': [], 'outputs': [], 'execute_result': None, 'error': None, 'completed': datetime.datetime(2016, 7, 18, 10, 53, 40, 906585)}\n",
      "{'received': datetime.datetime(2016, 7, 18, 10, 53, 31, 911214), 'engine_uuid': '198eaffc-f814-4d36-adef-3f27aca0e583', 'stderr': '', 'execute_input': None, 'data': {}, 'started': datetime.datetime(2016, 7, 18, 10, 53, 21, 901709), 'status': 'ok', 'engine_id': 2, 'submitted': datetime.datetime(2016, 7, 18, 10, 52, 57, 884259), 'after': [], 'stdout': '', 'msg_id': '928500cd-b68c-4ed9-be07-76432efbfaa2', 'follow': [], 'outputs': [], 'execute_result': None, 'error': None, 'completed': datetime.datetime(2016, 7, 18, 10, 53, 31, 907647)}\n"
     ]
    },
    {
     "data": {
      "image/png": "[encoded data removed]",
      "text/plain": [
       "<matplotlib.figure.Figure at 0x1145929b0>"
      ]
     },
     "metadata": {},
     "output_type": "display_data"
    }
   ],
   "source": [
    "for node in G:\n",
    "    md = results[node].metadata\n",
    "    print(md)\n",
    "    start = date2num(md.started)\n",
    "    runtime = date2num(md.completed) - start\n",
    "    pos[node] = (start*100, runtime*10000)\n",
    "    colors[node] = md.engine_id\n",
    "\n",
    "nx.draw(G, pos, node_list=list(colors.keys()), node_color=list(colors.values()), cmap=gist_rainbow, with_labels = True)"
   ]
  },
  {
   "cell_type": "markdown",
   "metadata": {
    "slideshow": {
     "slide_type": "slide"
    }
   },
   "source": [
    "### Creating a random DAG"
   ]
  },
  {
   "cell_type": "code",
   "execution_count": 45,
   "metadata": {
    "collapsed": true
   },
   "outputs": [],
   "source": [
    "def random_dag(nodes, edges):\n",
    "    \"\"\"Generate a random Directed Acyclic Graph (DAG) with a given number of nodes and edges.\"\"\"\n",
    "    G = nx.DiGraph()\n",
    "    for i in range(nodes):\n",
    "        G.add_node(i)\n",
    "    while edges > 0:\n",
    "        a = np.random.randint(0,nodes-1)\n",
    "        b=a\n",
    "        while b==a:\n",
    "            b = np.random.randint(0,nodes-1)\n",
    "        G.add_edge(a,b)\n",
    "        if nx.is_directed_acyclic_graph(G):\n",
    "            edges -= 1\n",
    "        else:\n",
    "            # we closed a loop!\n",
    "            G.remove_edge(a,b)\n",
    "    return G"
   ]
  },
  {
   "cell_type": "code",
   "execution_count": 46,
   "metadata": {
    "collapsed": false
   },
   "outputs": [],
   "source": [
    "G = random_dag(32,128)"
   ]
  },
  {
   "cell_type": "markdown",
   "metadata": {},
   "source": [
    "### Creating a function that is executed by each node"
   ]
  },
  {
   "cell_type": "code",
   "execution_count": 47,
   "metadata": {
    "collapsed": false
   },
   "outputs": [
    {
     "data": {
      "text/plain": [
       "0"
      ]
     },
     "execution_count": 47,
     "metadata": {},
     "output_type": "execute_result"
    }
   ],
   "source": [
    "def randomwait():\n",
    "    import time\n",
    "    time.sleep(np.random.randint(20))\n",
    "    return 0\n",
    "\n",
    "randomwait()"
   ]
  },
  {
   "cell_type": "code",
   "execution_count": 48,
   "metadata": {
    "collapsed": false
   },
   "outputs": [],
   "source": [
    "jobs = {}\n",
    "for node in G:\n",
    "    jobs[node] = randomwait"
   ]
  },
  {
   "cell_type": "code",
   "execution_count": 76,
   "metadata": {
    "collapsed": false
   },
   "outputs": [
    {
     "data": {
      "image/png": "[encoded data removed]",
      "text/plain": [
       "<matplotlib.figure.Figure at 0x114a68320>"
      ]
     },
     "metadata": {},
     "output_type": "display_data"
    }
   ],
   "source": [
    "pos = {}; colors = {};\n",
    "for node in G:\n",
    "    md = results[node].metadata\n",
    "    start = date2num(md.started)\n",
    "    runtime = date2num(md.completed) - start\n",
    "    pos[node] = (start*100, runtime*10000)\n",
    "    colors[node] = md.engine_id\n",
    "\n",
    "nx.draw(G, pos, node_list=list(colors.keys()), node_color=list(colors.values()), cmap=gist_rainbow, with_labels = True)"
   ]
  },
  {
   "cell_type": "markdown",
   "metadata": {},
   "source": [
    "### Executing the functions with the dependencies given by the DAG"
   ]
  },
  {
   "cell_type": "code",
   "execution_count": 49,
   "metadata": {
    "collapsed": false
   },
   "outputs": [],
   "source": [
    "results = {}\n",
    "lbview = rcc.load_balanced_view()\n",
    "for node in nx.topological_sort(G):\n",
    "    deps = [ results[n] for n in G.predecessors(node) ]\n",
    "    with lbview.temp_flags(after=deps, block=False):\n",
    "        results[node] = lbview.apply(jobs[node])\n"
   ]
  },
  {
   "cell_type": "code",
   "execution_count": 50,
   "metadata": {
    "collapsed": false
   },
   "outputs": [
    {
     "data": {
      "text/plain": [
       "True"
      ]
     },
     "execution_count": 50,
     "metadata": {},
     "output_type": "execute_result"
    }
   ],
   "source": [
    "lbview.wait(results.values())"
   ]
  },
  {
   "cell_type": "code",
   "execution_count": 51,
   "metadata": {
    "collapsed": true
   },
   "outputs": [],
   "source": [
    "def validate_tree(G, results):\n",
    "    \"\"\"Validate that jobs executed after their dependencies.\"\"\"\n",
    "    for node in G:\n",
    "        started = results[node].metadata.started\n",
    "        for parent in G.predecessors(node):\n",
    "            finished = results[parent].metadata.completed\n",
    "            assert started > finished, \"%s should have happened after %s\"%(node, parent)"
   ]
  },
  {
   "cell_type": "code",
   "execution_count": 70,
   "metadata": {
    "collapsed": false,
    "run_control": {
     "marked": false
    }
   },
   "outputs": [
    {
     "data": {
      "image/png": "[encoded data removed]",
      "text/plain": [
       "<matplotlib.figure.Figure at 0x114547710>"
      ]
     },
     "metadata": {},
     "output_type": "display_data"
    }
   ],
   "source": [
    "%matplotlib inline\n",
    "\n",
    "from matplotlib.dates import date2num\n",
    "from matplotlib.cm import gist_rainbow\n",
    "pos = {}; colors = {};\n",
    "for node in G:\n",
    "    md = results[node].metadata\n",
    "    start = date2num(md.started)\n",
    "    runtime = date2num(md.completed) - start\n",
    "    pos[node] = (start*100, runtime*10000)\n",
    "    colors[node] = md.engine_id\n",
    "\n",
    "    \n",
    "nx.draw(G, pos, node_list=list(colors.keys()), node_color=list(colors.values()), cmap=gist_rainbow, with_labels = True)\n",
    "\n"
   ]
  },
  {
   "cell_type": "code",
   "execution_count": null,
   "metadata": {
    "collapsed": true
   },
   "outputs": [],
   "source": []
  }
 ],
 "metadata": {
  "celltoolbar": "Slideshow",
  "kernelspec": {
   "display_name": "Python 3",
   "language": "python",
   "name": "python3"
  },
  "language_info": {
   "codemirror_mode": {
    "name": "ipython",
    "version": 3
   },
   "file_extension": ".py",
   "mimetype": "text/x-python",
   "name": "python",
   "nbconvert_exporter": "python",
   "pygments_lexer": "ipython3",
   "version": "3.5.2"
  },
  "latex_envs": {
   "bibliofile": "biblio.bib",
   "cite_by": "apalike",
   "current_citInitial": 1,
   "eqLabelWithNumbers": true,
   "eqNumInitial": 0
  },
  "toc": {
   "toc_cell": false,
   "toc_number_sections": true,
   "toc_threshold": 6,
   "toc_window_display": true
  },
  "toc_position": {
   "height": "882px",
   "left": "1610.1875px",
   "right": "20px",
   "top": "3px",
   "width": "221px"
  }
 },
 "nbformat": 4,
 "nbformat_minor": 0
}
