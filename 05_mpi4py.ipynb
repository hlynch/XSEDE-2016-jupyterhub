{
 "cells": [
  {
   "cell_type": "code",
   "execution_count": 2,
   "metadata": {
    "collapsed": false
   },
   "outputs": [
    {
     "name": "stdout",
     "output_type": "stream",
     "text": [
      "[0, 1, 2, 3, 4, 5, 6, 7, 8, 9, 10, 11, 12, 13, 14, 15, 16, 17, 18, 19, 20, 21, 22, 23, 24, 25]\n"
     ]
    }
   ],
   "source": [
    "core_profile = 'janus-cpu'\n",
    "\n",
    "from ipyparallel import Client\n",
    "rcc = Client(profile=core_profile)\n",
    "print(rcc.ids)\n",
    "view = rcc[:]\n",
    "view.block = True"
   ]
  },
  {
   "cell_type": "code",
   "execution_count": 3,
   "metadata": {
    "collapsed": false
   },
   "outputs": [
    {
     "data": {
      "text/plain": [
       "<DirectView [0, 1, 2, 3,...]>"
      ]
     },
     "execution_count": 3,
     "metadata": {},
     "output_type": "execute_result"
    }
   ],
   "source": [
    "view"
   ]
  },
  {
   "cell_type": "code",
   "execution_count": 4,
   "metadata": {
    "collapsed": false
   },
   "outputs": [
    {
     "name": "stdout",
     "output_type": "stream",
     "text": [
      "%autopx enabled\n"
     ]
    }
   ],
   "source": [
    "%autopx"
   ]
  },
  {
   "cell_type": "code",
   "execution_count": 5,
   "metadata": {
    "collapsed": false
   },
   "outputs": [],
   "source": [
    "from mpi4py import MPI"
   ]
  },
  {
   "cell_type": "code",
   "execution_count": 6,
   "metadata": {
    "collapsed": false
   },
   "outputs": [],
   "source": [
    "size = MPI.COMM_WORLD.Get_size()"
   ]
  },
  {
   "cell_type": "code",
   "execution_count": 7,
   "metadata": {
    "collapsed": false
   },
   "outputs": [
    {
     "data": {
      "text/plain": [
       "\u001b[0;31mOut[0:8]: \u001b[0m26"
      ]
     },
     "metadata": {},
     "output_type": "display_data"
    },
    {
     "data": {
      "text/plain": [
       "\u001b[0;31mOut[1:7]: \u001b[0m26"
      ]
     },
     "metadata": {},
     "output_type": "display_data"
    },
    {
     "data": {
      "text/plain": [
       "\u001b[0;31mOut[2:8]: \u001b[0m26"
      ]
     },
     "metadata": {},
     "output_type": "display_data"
    },
    {
     "data": {
      "text/plain": [
       "\u001b[0;31mOut[3:10]: \u001b[0m26"
      ]
     },
     "metadata": {},
     "output_type": "display_data"
    },
    {
     "data": {
      "text/plain": [
       "\u001b[0;31mOut[4:8]: \u001b[0m26"
      ]
     },
     "metadata": {},
     "output_type": "display_data"
    },
    {
     "data": {
      "text/plain": [
       "\u001b[0;31mOut[5:10]: \u001b[0m26"
      ]
     },
     "metadata": {},
     "output_type": "display_data"
    },
    {
     "data": {
      "text/plain": [
       "\u001b[0;31mOut[6:8]: \u001b[0m26"
      ]
     },
     "metadata": {},
     "output_type": "display_data"
    },
    {
     "data": {
      "text/plain": [
       "\u001b[0;31mOut[7:10]: \u001b[0m26"
      ]
     },
     "metadata": {},
     "output_type": "display_data"
    },
    {
     "data": {
      "text/plain": [
       "\u001b[0;31mOut[8:8]: \u001b[0m26"
      ]
     },
     "metadata": {},
     "output_type": "display_data"
    },
    {
     "data": {
      "text/plain": [
       "\u001b[0;31mOut[9:10]: \u001b[0m26"
      ]
     },
     "metadata": {},
     "output_type": "display_data"
    },
    {
     "data": {
      "text/plain": [
       "\u001b[0;31mOut[10:8]: \u001b[0m26"
      ]
     },
     "metadata": {},
     "output_type": "display_data"
    },
    {
     "data": {
      "text/plain": [
       "\u001b[0;31mOut[11:10]: \u001b[0m26"
      ]
     },
     "metadata": {},
     "output_type": "display_data"
    },
    {
     "data": {
      "text/plain": [
       "\u001b[0;31mOut[12:8]: \u001b[0m26"
      ]
     },
     "metadata": {},
     "output_type": "display_data"
    },
    {
     "data": {
      "text/plain": [
       "\u001b[0;31mOut[13:10]: \u001b[0m26"
      ]
     },
     "metadata": {},
     "output_type": "display_data"
    },
    {
     "data": {
      "text/plain": [
       "\u001b[0;31mOut[14:8]: \u001b[0m26"
      ]
     },
     "metadata": {},
     "output_type": "display_data"
    },
    {
     "data": {
      "text/plain": [
       "\u001b[0;31mOut[15:10]: \u001b[0m26"
      ]
     },
     "metadata": {},
     "output_type": "display_data"
    },
    {
     "data": {
      "text/plain": [
       "\u001b[0;31mOut[16:8]: \u001b[0m26"
      ]
     },
     "metadata": {},
     "output_type": "display_data"
    },
    {
     "data": {
      "text/plain": [
       "\u001b[0;31mOut[17:10]: \u001b[0m26"
      ]
     },
     "metadata": {},
     "output_type": "display_data"
    },
    {
     "data": {
      "text/plain": [
       "\u001b[0;31mOut[18:8]: \u001b[0m26"
      ]
     },
     "metadata": {},
     "output_type": "display_data"
    },
    {
     "data": {
      "text/plain": [
       "\u001b[0;31mOut[19:10]: \u001b[0m26"
      ]
     },
     "metadata": {},
     "output_type": "display_data"
    },
    {
     "data": {
      "text/plain": [
       "\u001b[0;31mOut[20:8]: \u001b[0m26"
      ]
     },
     "metadata": {},
     "output_type": "display_data"
    },
    {
     "data": {
      "text/plain": [
       "\u001b[0;31mOut[21:10]: \u001b[0m26"
      ]
     },
     "metadata": {},
     "output_type": "display_data"
    },
    {
     "data": {
      "text/plain": [
       "\u001b[0;31mOut[22:8]: \u001b[0m26"
      ]
     },
     "metadata": {},
     "output_type": "display_data"
    },
    {
     "data": {
      "text/plain": [
       "\u001b[0;31mOut[23:10]: \u001b[0m26"
      ]
     },
     "metadata": {},
     "output_type": "display_data"
    },
    {
     "data": {
      "text/plain": [
       "\u001b[0;31mOut[24:8]: \u001b[0m26"
      ]
     },
     "metadata": {},
     "output_type": "display_data"
    },
    {
     "data": {
      "text/plain": [
       "\u001b[0;31mOut[25:10]: \u001b[0m26"
      ]
     },
     "metadata": {},
     "output_type": "display_data"
    }
   ],
   "source": [
    "size"
   ]
  },
  {
   "cell_type": "code",
   "execution_count": 8,
   "metadata": {
    "collapsed": false
   },
   "outputs": [
    {
     "name": "stdout",
     "output_type": "stream",
     "text": [
      "[stdout:0] \n",
      "Hello World! I am process 4 of 26 on node0356.\n",
      "\n",
      "[stdout:1] \n",
      "Hello World! I am process 3 of 26 on node0356.\n",
      "\n",
      "[stdout:2] \n",
      "Hello World! I am process 6 of 26 on node0356.\n",
      "\n",
      "[stdout:3] \n",
      "Hello World! I am process 0 of 26 on node0356.\n",
      "\n",
      "[stdout:4] \n",
      "Hello World! I am process 1 of 26 on node0356.\n",
      "\n",
      "[stdout:5] \n",
      "Hello World! I am process 7 of 26 on node0356.\n",
      "\n",
      "[stdout:6] \n",
      "Hello World! I am process 8 of 26 on node0356.\n",
      "\n",
      "[stdout:7] \n",
      "Hello World! I am process 5 of 26 on node0356.\n",
      "\n",
      "[stdout:8] \n",
      "Hello World! I am process 2 of 26 on node0356.\n",
      "\n",
      "[stdout:9] \n",
      "Hello World! I am process 25 of 26 on node0358.\n",
      "\n",
      "[stdout:10] \n",
      "Hello World! I am process 22 of 26 on node0358.\n",
      "\n",
      "[stdout:11] \n",
      "Hello World! I am process 19 of 26 on node0358.\n",
      "\n",
      "[stdout:12] \n",
      "Hello World! I am process 21 of 26 on node0358.\n",
      "\n",
      "[stdout:13] \n",
      "Hello World! I am process 18 of 26 on node0358.\n",
      "\n",
      "[stdout:14] \n",
      "Hello World! I am process 20 of 26 on node0358.\n",
      "\n",
      "[stdout:15] \n",
      "Hello World! I am process 24 of 26 on node0358.\n",
      "\n",
      "[stdout:16] \n",
      "Hello World! I am process 23 of 26 on node0358.\n",
      "\n",
      "[stdout:17] \n",
      "Hello World! I am process 13 of 26 on node0357.\n",
      "\n",
      "[stdout:18] \n",
      "Hello World! I am process 15 of 26 on node0357.\n",
      "\n",
      "[stdout:19] \n",
      "Hello World! I am process 12 of 26 on node0357.\n",
      "\n",
      "[stdout:20] \n",
      "Hello World! I am process 14 of 26 on node0357.\n",
      "\n",
      "[stdout:21] \n",
      "Hello World! I am process 9 of 26 on node0357.\n",
      "\n",
      "[stdout:22] \n",
      "Hello World! I am process 16 of 26 on node0357.\n",
      "\n",
      "[stdout:23] \n",
      "Hello World! I am process 10 of 26 on node0357.\n",
      "\n",
      "[stdout:24] \n",
      "Hello World! I am process 11 of 26 on node0357.\n",
      "\n",
      "[stdout:25] \n",
      "Hello World! I am process 17 of 26 on node0357.\n",
      "\n"
     ]
    }
   ],
   "source": [
    "size = MPI.COMM_WORLD.Get_size()\n",
    "rank = MPI.COMM_WORLD.Get_rank()\n",
    "name = MPI.Get_processor_name()\n",
    "\n",
    "print(\"Hello World! I am process %d of %d on %s.\\n\" % (rank, size, name))"
   ]
  },
  {
   "cell_type": "code",
   "execution_count": null,
   "metadata": {
    "collapsed": false
   },
   "outputs": [],
   "source": []
  }
 ],
 "metadata": {
  "kernelspec": {
   "display_name": "Python 3",
   "language": "python",
   "name": "python3"
  },
  "language_info": {
   "codemirror_mode": {
    "name": "ipython",
    "version": 3
   },
   "file_extension": ".py",
   "mimetype": "text/x-python",
   "name": "python",
   "nbconvert_exporter": "python",
   "pygments_lexer": "ipython3",
   "version": "3.4.3"
  }
 },
 "nbformat": 4,
 "nbformat_minor": 0
}
