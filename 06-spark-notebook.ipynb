{
 "cells": [
  {
   "cell_type": "markdown",
   "metadata": {},
   "source": [
    "<img src='https://www.rc.colorado.edu/sites/all/themes/research/logo.png' style=\"height:75px\">"
   ]
  },
  {
   "cell_type": "markdown",
   "metadata": {},
   "source": [
    "# Integrating spark with jupyterhub"
   ]
  },
  {
   "cell_type": "markdown",
   "metadata": {},
   "source": [
    "* Assumption: a working spark installation"
   ]
  },
  {
   "cell_type": "code",
   "execution_count": 1,
   "metadata": {
    "collapsed": false
   },
   "outputs": [
    {
     "name": "stdout",
     "output_type": "stream",
     "text": [
      "/Users/tom/spark-1.4.0-bin-osx-spark\n",
      "beeline\n",
      "beeline.cmd\n",
      "load-spark-env.cmd\n",
      "load-spark-env.sh\n",
      "pyspark\n",
      "pyspark.cmd\n",
      "pyspark2.cmd\n",
      "run-example\n",
      "run-example.cmd\n",
      "run-example2.cmd\n",
      "spark-class\n",
      "spark-class.cmd\n",
      "spark-class2.cmd\n",
      "spark-shell\n",
      "spark-shell.cmd\n",
      "spark-shell2.cmd\n",
      "spark-sql\n",
      "spark-submit\n",
      "spark-submit.cmd\n",
      "spark-submit2.cmd\n",
      "sparkR\n",
      "sparkR.cmd\n",
      "sparkR2.cmd\n"
     ]
    }
   ],
   "source": [
    "%%bash\n",
    "echo $SPARK_HOME\n",
    "ls $SPARK_HOME/bin"
   ]
  },
  {
   "cell_type": "code",
   "execution_count": 2,
   "metadata": {
    "collapsed": false
   },
   "outputs": [
    {
     "name": "stdout",
     "output_type": "stream",
     "text": [
      "python2\n",
      "ipython2\n"
     ]
    }
   ],
   "source": [
    "%%bash\n",
    "echo $PYSPARK_PYTHON\n",
    "echo $PYSPARK_DRIVER_PYTHON"
   ]
  },
  {
   "cell_type": "markdown",
   "metadata": {},
   "source": [
    "## Creating a pyspark profile"
   ]
  },
  {
   "cell_type": "code",
   "execution_count": 3,
   "metadata": {
    "collapsed": false
   },
   "outputs": [
    {
     "name": "stdout",
     "output_type": "stream",
     "text": [
      "\n",
      "Available profiles in /Users/tom/.ipython:\n",
      "    default\n",
      "    mpi\n",
      "    pyspark\n",
      "\n",
      "To use any of the above profiles, start IPython with:\n",
      "    ipython --profile=<name>\n",
      "\n",
      "README\n",
      "extensions\n",
      "nbextensions\n",
      "profile_default\n",
      "profile_mpi\n",
      "profile_pyspark\n"
     ]
    }
   ],
   "source": [
    "%%bash\n",
    "#ipython profile create pyspark\n",
    "ipython profile list\n",
    "ls ~/.ipython/"
   ]
  },
  {
   "cell_type": "markdown",
   "metadata": {},
   "source": [
    "### Create file in startup directory"
   ]
  },
  {
   "cell_type": "code",
   "execution_count": 4,
   "metadata": {
    "collapsed": false
   },
   "outputs": [
    {
     "name": "stdout",
     "output_type": "stream",
     "text": [
      "00-pyspark-setup.py\n",
      "README\n"
     ]
    }
   ],
   "source": [
    "%%bash\n",
    "ls ~/.ipython/profile_pyspark/startup"
   ]
  },
  {
   "cell_type": "code",
   "execution_count": 5,
   "metadata": {
    "collapsed": false
   },
   "outputs": [
    {
     "name": "stdout",
     "output_type": "stream",
     "text": [
      "# Configure the necessary Spark environment\n",
      "import os\n",
      "import sys\n",
      "\n",
      "spark_home = os.environ.get('SPARK_HOME', None)\n",
      "sys.path.insert(0, spark_home + \"/python\")\n",
      "\n",
      "# Add the py4j to the path.\n",
      "# You may need to change the version number to match your install\n",
      "sys.path.insert(0, os.path.join(spark_home, 'python/lib/py4j-0.8.2.1-src.zip'))\n",
      "\n",
      "# Initialize PySpark to predefine the SparkContext variable 'sc'\n",
      "execfile(os.path.join(spark_home, 'python/pyspark/shell.py'))\n"
     ]
    }
   ],
   "source": [
    "%%bash\n",
    "cat ~/.ipython/profile_pyspark/startup/00-pyspark-setup.py"
   ]
  },
  {
   "cell_type": "markdown",
   "metadata": {},
   "source": [
    "## Test with ipython"
   ]
  },
  {
   "cell_type": "markdown",
   "metadata": {},
   "source": [
    "`ipython2 --profile=pyspark`"
   ]
  },
  {
   "cell_type": "markdown",
   "metadata": {},
   "source": [
    "## Create kernel description for jupyter"
   ]
  },
  {
   "cell_type": "code",
   "execution_count": 11,
   "metadata": {
    "collapsed": false,
    "scrolled": true
   },
   "outputs": [
    {
     "name": "stdout",
     "output_type": "stream",
     "text": [
      "{\n",
      "  \"argv\":  [\n",
      "  \"/opt/local/bin/python2.7\",\n",
      "  \"-m\",\n",
      "  \"IPython.kernel\",\n",
      "  \"--profile=pyspark\",\n",
      "  \"-f\",\n",
      "  \"{connection_file}\"\n",
      " ],\n",
      "  \"display_name\": \"pyspark (Spark 1.4.0)\",\n",
      "  \"language\": \"python\"\n",
      "}\n"
     ]
    }
   ],
   "source": [
    "%%bash\n",
    "cat pyspark-kernel/kernel.json"
   ]
  },
  {
   "cell_type": "markdown",
   "metadata": {},
   "source": [
    "## Install the kernel"
   ]
  },
  {
   "cell_type": "code",
   "execution_count": 13,
   "metadata": {
    "collapsed": false
   },
   "outputs": [
    {
     "name": "stdout",
     "output_type": "stream",
     "text": [
      "Available kernels:\n",
      "  python3           /opt/local/Library/Frameworks/Python.framework/Versions/3.5/lib/python3.5/site-packages/ipykernel/resources\n",
      "  ir                /Users/tom/Library/Jupyter/kernels/ir\n",
      "  pyspark-kernel    /Users/tom/Library/Jupyter/kernels/pyspark-kernel\n",
      "  python2           /Users/tom/Library/Jupyter/kernels/python2\n",
      "  bash              /usr/local/share/jupyter/kernels/bash\n"
     ]
    }
   ],
   "source": [
    "%%bash\n",
    "jupyter-kernelspec-3.5 list"
   ]
  },
  {
   "cell_type": "code",
   "execution_count": 14,
   "metadata": {
    "collapsed": false
   },
   "outputs": [
    {
     "name": "stderr",
     "output_type": "stream",
     "text": [
      "[InstallKernelSpec] Installed kernelspec pyspark-xsede in /Users/tom/Library/Jupyter/kernels/pyspark-xsede\n"
     ]
    }
   ],
   "source": [
    "%%bash\n",
    "jupyter-kernelspec-3.5 install --user --name='pyspark-xsede' pyspark-kernel"
   ]
  },
  {
   "cell_type": "markdown",
   "metadata": {},
   "source": [
    "## Restart your jupyter notebook server"
   ]
  },
  {
   "cell_type": "code",
   "execution_count": null,
   "metadata": {
    "collapsed": true
   },
   "outputs": [],
   "source": []
  }
 ],
 "metadata": {
  "kernelspec": {
   "display_name": "Python 3",
   "language": "python",
   "name": "python3"
  },
  "language_info": {
   "codemirror_mode": {
    "name": "ipython",
    "version": 3
   },
   "file_extension": ".py",
   "mimetype": "text/x-python",
   "name": "python",
   "nbconvert_exporter": "python",
   "pygments_lexer": "ipython3",
   "version": "3.5.2"
  },
  "latex_envs": {
   "bibliofile": "biblio.bib",
   "cite_by": "apalike",
   "current_citInitial": 1,
   "eqLabelWithNumbers": true,
   "eqNumInitial": 0
  },
  "toc": {
   "toc_cell": false,
   "toc_number_sections": true,
   "toc_threshold": 6,
   "toc_window_display": true
  }
 },
 "nbformat": 4,
 "nbformat_minor": 0
}
