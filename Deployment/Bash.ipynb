{
 "cells": [
  {
   "cell_type": "code",
   "execution_count": 1,
   "metadata": {
    "collapsed": false
   },
   "outputs": [
    {
     "name": "stdout",
     "output_type": "stream",
     "text": [
      "jupyter2.rc.int.colorado.edu\r\n"
     ]
    }
   ],
   "source": [
    "hostname"
   ]
  },
  {
   "cell_type": "code",
   "execution_count": 3,
   "metadata": {
    "collapsed": false
   },
   "outputs": [
    {
     "name": "stdout",
     "output_type": "stream",
     "text": [
      "joan5896\r\n"
     ]
    }
   ],
   "source": [
    "whoami"
   ]
  },
  {
   "cell_type": "code",
   "execution_count": 4,
   "metadata": {
    "collapsed": false,
    "scrolled": false
   },
   "outputs": [
    {
     "name": "stdout",
     "output_type": "stream",
     "text": [
      "Bash.ipynb  Parallel.ipynb  Python2.ipynb  Python3.ipynb  R.ipynb\r\n"
     ]
    }
   ],
   "source": [
    "ls"
   ]
  },
  {
   "cell_type": "code",
   "execution_count": 5,
   "metadata": {
    "collapsed": false
   },
   "outputs": [
    {
     "name": "stdout",
     "output_type": "stream",
     "text": [
      "batch_script\t\t  nc110.tgz\r\n",
      "bin\t\t\t  netcat-0.7.1\r\n",
      "Changelog\t\t  netcat-0.7.1.tar.gz\r\n",
      "curc-bench\t\t  netcat.blurb\r\n",
      "curc-bench-runs\t\t  netcat.c\r\n",
      "curc-puppet\t\t  Pictures\r\n",
      "data\t\t\t  Projects\r\n",
      "Desktop\t\t\t  Public\r\n",
      "Documents\t\t  README\r\n",
      "Downloads\t\t  rpmbuild\r\n",
      "generic.h\t\t  scripts\r\n",
      "intel\t\t\t  slurm\r\n",
      "Jupyter\t\t\t  slurm-1468488.out\r\n",
      "jupyterhub_cookie_secret  SLURM_engine68557ef5-1d54-414e-bcde-1a2032cddf75\r\n",
      "jupyterhub.py\t\t  slurm_engine.sbatch\r\n",
      "jupyterhub.sqlite\t  stupidh\r\n",
      "jupyterhub-tutorial\t  Templates\r\n",
      "lib\t\t\t  testfile\r\n",
      "load_modules\t\t  tmp\r\n",
      "Makefile\t\t  Videos\r\n",
      "Music\r\n"
     ]
    }
   ],
   "source": [
    "ls ~"
   ]
  },
  {
   "cell_type": "code",
   "execution_count": null,
   "metadata": {
    "collapsed": true
   },
   "outputs": [],
   "source": []
  }
 ],
 "metadata": {
  "kernelspec": {
   "display_name": "Bash",
   "language": "bash",
   "name": "bash"
  },
  "language_info": {
   "codemirror_mode": "shell",
   "file_extension": ".sh",
   "mimetype": "text/x-sh",
   "name": "bash"
  }
 },
 "nbformat": 4,
 "nbformat_minor": 0
}
