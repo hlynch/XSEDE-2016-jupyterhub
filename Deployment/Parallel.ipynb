{
 "cells": [
  {
   "cell_type": "markdown",
   "metadata": {},
   "source": [
    "# An example Jupyter notebook for parallel programming"
   ]
  },
  {
   "cell_type": "code",
   "execution_count": 4,
   "metadata": {
    "collapsed": false
   },
   "outputs": [
    {
     "name": "stdout",
     "output_type": "stream",
     "text": [
      "profile: janus-cpu\n",
      "IDs: [0]\n"
     ]
    }
   ],
   "source": [
    "import ipyparallel\n",
    "\n",
    "# attach to a running cluster\n",
    "cluster = ipyparallel.Client(profile='janus-cpu')\n",
    "print('profile:', cluster.profile)\n",
    "print(\"IDs:\", cluster.ids) # Print process id numbers"
   ]
  },
  {
   "cell_type": "code",
   "execution_count": 23,
   "metadata": {
    "collapsed": false
   },
   "outputs": [
    {
     "name": "stdout",
     "output_type": "stream",
     "text": [
      "[stdout:0] hosts: cnode0114.rc.int.colorado.edu\n",
      "[stdout:1] hosts: cnode0114.rc.int.colorado.edu\n",
      "[stdout:2] hosts: cnode0114.rc.int.colorado.edu\n",
      "[stdout:3] hosts: cnode0114.rc.int.colorado.edu\n",
      "squares: [0, 1, 4, 9, 16, 25, 36, 49, 64, 81, 100, 121, 144, 169, 196, 225, 256, 289, 324, 361, 400, 441, 484, 529, 576, 625, 676, 729, 784, 841, 900, 961]\n"
     ]
    }
   ],
   "source": [
    "# The %px magic executes a single Python command on\n",
    "# the engines specified by the targets attribute of\n",
    "# the DirectView instance.\n",
    "#\n",
    "# http://ipython.org/ipython-doc/stable/parallel/magics.html#px\n",
    "%px import socket\n",
    "%px print(\"hosts:\", socket.gethostname())\n",
    "\n",
    "# calculate square numbers in parallel. Print result.\n",
    "squares = cluster[:].map_sync(lambda x: x**2, range(32))\n",
    "print(\"squares:\", squares)"
   ]
  },
  {
   "cell_type": "code",
   "execution_count": null,
   "metadata": {
    "collapsed": true
   },
   "outputs": [],
   "source": []
  }
 ],
 "metadata": {
  "kernelspec": {
   "display_name": "Python 3",
   "language": "python",
   "name": "python3"
  },
  "language_info": {
   "codemirror_mode": {
    "name": "ipython",
    "version": 3
   },
   "file_extension": ".py",
   "mimetype": "text/x-python",
   "name": "python",
   "nbconvert_exporter": "python",
   "pygments_lexer": "ipython3",
   "version": "3.4.3"
  }
 },
 "nbformat": 4,
 "nbformat_minor": 0
}
