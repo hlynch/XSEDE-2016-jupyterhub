{
 "cells": [
  {
   "cell_type": "markdown",
   "metadata": {},
   "source": [
    "# An example Jupyter notebook for parallel programming using MPI"
   ]
  },
  {
   "cell_type": "code",
   "execution_count": 33,
   "metadata": {
    "collapsed": false
   },
   "outputs": [
    {
     "name": "stdout",
     "output_type": "stream",
     "text": [
      "profile: crestone-cpu\n",
      "IDs: [0, 1, 2, 3]\n"
     ]
    }
   ],
   "source": [
    "import ipyparallel\n",
    "\n",
    "# attach to a running cluster\n",
    "cluster = ipyparallel.Client(profile='crestone-cpu')\n",
    "print('profile:', cluster.profile)\n",
    "print(\"IDs:\", cluster.ids) # Print process id numbers"
   ]
  },
  {
   "cell_type": "code",
   "execution_count": 34,
   "metadata": {
    "collapsed": false,
    "scrolled": false
   },
   "outputs": [
    {
     "name": "stdout",
     "output_type": "stream",
     "text": [
      "[stdout:0] 3\n",
      "[stdout:1] 2\n",
      "[stdout:2] 1\n",
      "[stdout:3] 0\n"
     ]
    }
   ],
   "source": [
    "%%px\n",
    "\n",
    "# %%px can be used as a Cell Magic, which accepts\n",
    "# some arguments for controlling the execution.\n",
    "#\n",
    "# http://ipyparallel.readthedocs.org/en/latest/magics.html#px-cell-magic\n",
    "\n",
    "import mpi4py.MPI\n",
    "\n",
    "comm = mpi4py.MPI.COMM_WORLD\n",
    "rank = comm.Get_rank()\n",
    "print(rank)"
   ]
  },
  {
   "cell_type": "code",
   "execution_count": 35,
   "metadata": {
    "collapsed": false
   },
   "outputs": [
    {
     "name": "stdout",
     "output_type": "stream",
     "text": [
      "[stdout:0] 3: idle\n",
      "[stdout:1] 2: idle\n",
      "[stdout:2] \n",
      "1: received data from 0: [18 99 91 30 87 61 79 62 81 78 19 69 75 90 53 82 28 98 94  3 72 71  5 51 65\n",
      " 49 24 86 74 54 44 10 12 50 46 40 93 32 26 11  4 68 37 76 92 57 13 20 33 31\n",
      "  8 58  0 52 60 96 77 73 80 42 85 29 67 43 15 14 55 84 36 59 48 16 27 89 34\n",
      " 25 39 88  6 41 63 22 21  9 47 64 95  2 83 97 23 45  1 56 66 35  7 70 17 38]\n",
      "[stdout:3] \n",
      "0: sent data to 1: [18 99 91 30 87 61 79 62 81 78 19 69 75 90 53 82 28 98 94  3 72 71  5 51 65\n",
      " 49 24 86 74 54 44 10 12 50 46 40 93 32 26 11  4 68 37 76 92 57 13 20 33 31\n",
      "  8 58  0 52 60 96 77 73 80 42 85 29 67 43 15 14 55 84 36 59 48 16 27 89 34\n",
      " 25 39 88  6 41 63 22 21  9 47 64 95  2 83 97 23 45  1 56 66 35  7 70 17 38]\n"
     ]
    }
   ],
   "source": [
    "%%px\n",
    "\n",
    "from mpi4py import MPI\n",
    "import numpy\n",
    "\n",
    "comm = MPI.COMM_WORLD\n",
    "rank = comm.Get_rank()\n",
    "\n",
    "# passing MPI datatypes explicitly\n",
    "if rank == 0:\n",
    "    data = numpy.arange(100, dtype='i')\n",
    "    numpy.random.shuffle(data)\n",
    "    comm.Send([data, MPI.INT], dest=1, tag=77)\n",
    "    print(\"{0}: sent data to 1: {1}\".format(rank, data))\n",
    "elif rank == 1:\n",
    "    data = numpy.empty(100, dtype='i')\n",
    "    comm.Recv([data, MPI.INT], source=0, tag=77)\n",
    "    print(\"{0}: received data from 0: {1}\".format(rank, data))\n",
    "else:\n",
    "    print(\"{0}: idle\".format(rank))"
   ]
  },
  {
   "cell_type": "code",
   "execution_count": null,
   "metadata": {
    "collapsed": true
   },
   "outputs": [],
   "source": []
  }
 ],
 "metadata": {
  "kernelspec": {
   "display_name": "Python 3",
   "language": "python",
   "name": "python3"
  },
  "language_info": {
   "codemirror_mode": {
    "name": "ipython",
    "version": 3
   },
   "file_extension": ".py",
   "mimetype": "text/x-python",
   "name": "python",
   "nbconvert_exporter": "python",
   "pygments_lexer": "ipython3",
   "version": "3.4.3"
  }
 },
 "nbformat": 4,
 "nbformat_minor": 0
}
