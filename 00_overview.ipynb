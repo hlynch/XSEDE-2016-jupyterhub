{
 "cells": [
  {
   "cell_type": "markdown",
   "metadata": {
    "slideshow": {
     "slide_type": "slide"
    }
   },
   "source": [
    "<img src='https://www.rc.colorado.edu/sites/all/themes/research/logo.png' style=\"height:75px\">"
   ]
  },
  {
   "cell_type": "markdown",
   "metadata": {},
   "source": [
    "# Objectives\n",
    "\n",
    "## For users\n",
    "\n",
    "* Become familar with the **IPython Notebook**\n",
    "* Introduce the Python landscape for data analysis\n",
    "* Introduce how to use the `ipyparallel capabilities`\n",
    "* Introduce how to use `mpi4py` to use MPI within python\n",
    "* Create your own `jupyter` kernel for `pyspark`\n",
    "* Simple `pyspark` example\n",
    "\n",
    "## For system administrators\n",
    "\n",
    "* How to deploy the jupyterhub in a HPC environment"
   ]
  },
  {
   "cell_type": "markdown",
   "metadata": {
    "slideshow": {
     "slide_type": "slide"
    }
   },
   "source": [
    "# Outline for the first part of the tutorial\n",
    "\n",
    "* The `jupyterhub` notebook interface\n",
    "* `ipyparallel`\n",
    "* `mpi4py`\n",
    "* `pyspark`: installing a kernel and a simple example\n",
    "\n",
    "Files are at https://github.com/ResearchComputing/XSEDE-2016-jupyterhub"
   ]
  },
  {
   "cell_type": "code",
   "execution_count": null,
   "metadata": {
    "collapsed": true
   },
   "outputs": [],
   "source": []
  }
 ],
 "metadata": {
  "celltoolbar": "Slideshow",
  "kernelspec": {
   "display_name": "Python 3",
   "language": "python",
   "name": "python3"
  },
  "language_info": {
   "codemirror_mode": {
    "name": "ipython",
    "version": 3
   },
   "file_extension": ".py",
   "mimetype": "text/x-python",
   "name": "python",
   "nbconvert_exporter": "python",
   "pygments_lexer": "ipython3",
   "version": "3.5.2"
  },
  "latex_envs": {
   "bibliofile": "biblio.bib",
   "cite_by": "apalike",
   "current_citInitial": 1,
   "eqLabelWithNumbers": true,
   "eqNumInitial": 0
  },
  "toc": {
   "toc_cell": false,
   "toc_number_sections": true,
   "toc_threshold": 6,
   "toc_window_display": false
  }
 },
 "nbformat": 4,
 "nbformat_minor": 0
}
